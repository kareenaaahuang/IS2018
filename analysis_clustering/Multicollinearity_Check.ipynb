{
 "cells": [
  {
   "cell_type": "code",
   "execution_count": 1,
   "metadata": {},
   "outputs": [],
   "source": [
    "import statsmodels.api as sm\n",
    "from statsmodels.stats.outliers_influence import variance_inflation_factor\n",
    "import pandas as pd"
   ]
  },
  {
   "cell_type": "code",
   "execution_count": 2,
   "metadata": {},
   "outputs": [],
   "source": [
    "data = pd.read_csv('../data_master/EDA_JVA_Kinect_MasterScaled.csv', index_col = 'Unnamed: 0')"
   ]
  },
  {
   "cell_type": "code",
   "execution_count": 3,
   "metadata": {},
   "outputs": [
    {
     "data": {
      "text/html": [
       "<div>\n",
       "<style scoped>\n",
       "    .dataframe tbody tr th:only-of-type {\n",
       "        vertical-align: middle;\n",
       "    }\n",
       "\n",
       "    .dataframe tbody tr th {\n",
       "        vertical-align: top;\n",
       "    }\n",
       "\n",
       "    .dataframe thead th {\n",
       "        text-align: right;\n",
       "    }\n",
       "</style>\n",
       "<table border=\"1\" class=\"dataframe\">\n",
       "  <thead>\n",
       "    <tr style=\"text-align: right;\">\n",
       "      <th></th>\n",
       "      <th>index</th>\n",
       "      <th>session</th>\n",
       "      <th>second</th>\n",
       "      <th>DA</th>\n",
       "      <th>PC</th>\n",
       "      <th>IDM</th>\n",
       "      <th>SM</th>\n",
       "      <th>jva100</th>\n",
       "      <th>moveDiff</th>\n",
       "      <th>headDiff</th>\n",
       "      <th>shoulderDiff</th>\n",
       "      <th>DA_scaled</th>\n",
       "      <th>PC_scaled</th>\n",
       "      <th>IDM_scaled</th>\n",
       "      <th>SM_scaled</th>\n",
       "      <th>jva100_scaled</th>\n",
       "      <th>moveDiff_scaled</th>\n",
       "      <th>headDiff_scaled</th>\n",
       "      <th>shoulderDiff_scaled</th>\n",
       "    </tr>\n",
       "  </thead>\n",
       "  <tbody>\n",
       "    <tr>\n",
       "      <th>0</th>\n",
       "      <td>0</td>\n",
       "      <td>2</td>\n",
       "      <td>1</td>\n",
       "      <td>0.233333</td>\n",
       "      <td>-0.447563</td>\n",
       "      <td>0.177397</td>\n",
       "      <td>0.208709</td>\n",
       "      <td>24.0</td>\n",
       "      <td>1.941329</td>\n",
       "      <td>0.047057</td>\n",
       "      <td>0.658437</td>\n",
       "      <td>-0.408346</td>\n",
       "      <td>-1.253811</td>\n",
       "      <td>-0.669944</td>\n",
       "      <td>-1.363551</td>\n",
       "      <td>1.713567</td>\n",
       "      <td>-0.346045</td>\n",
       "      <td>-0.454587</td>\n",
       "      <td>0.640038</td>\n",
       "    </tr>\n",
       "    <tr>\n",
       "      <th>1</th>\n",
       "      <td>1</td>\n",
       "      <td>2</td>\n",
       "      <td>2</td>\n",
       "      <td>0.232708</td>\n",
       "      <td>-0.445837</td>\n",
       "      <td>0.177548</td>\n",
       "      <td>0.207804</td>\n",
       "      <td>7.0</td>\n",
       "      <td>2.013969</td>\n",
       "      <td>0.040868</td>\n",
       "      <td>0.654975</td>\n",
       "      <td>-0.416471</td>\n",
       "      <td>-1.249036</td>\n",
       "      <td>-0.669415</td>\n",
       "      <td>-1.365111</td>\n",
       "      <td>-0.173196</td>\n",
       "      <td>-0.314421</td>\n",
       "      <td>-0.516680</td>\n",
       "      <td>0.612066</td>\n",
       "    </tr>\n",
       "    <tr>\n",
       "      <th>2</th>\n",
       "      <td>2</td>\n",
       "      <td>2</td>\n",
       "      <td>3</td>\n",
       "      <td>0.233125</td>\n",
       "      <td>-0.442000</td>\n",
       "      <td>0.177468</td>\n",
       "      <td>0.206289</td>\n",
       "      <td>18.0</td>\n",
       "      <td>1.825878</td>\n",
       "      <td>0.048828</td>\n",
       "      <td>0.642805</td>\n",
       "      <td>-0.411054</td>\n",
       "      <td>-1.238426</td>\n",
       "      <td>-0.669694</td>\n",
       "      <td>-1.367720</td>\n",
       "      <td>1.047651</td>\n",
       "      <td>-0.396306</td>\n",
       "      <td>-0.436817</td>\n",
       "      <td>0.513720</td>\n",
       "    </tr>\n",
       "    <tr>\n",
       "      <th>3</th>\n",
       "      <td>3</td>\n",
       "      <td>2</td>\n",
       "      <td>4</td>\n",
       "      <td>0.234583</td>\n",
       "      <td>-0.439776</td>\n",
       "      <td>0.176532</td>\n",
       "      <td>0.205172</td>\n",
       "      <td>23.0</td>\n",
       "      <td>1.675585</td>\n",
       "      <td>0.037022</td>\n",
       "      <td>0.648898</td>\n",
       "      <td>-0.392095</td>\n",
       "      <td>-1.232274</td>\n",
       "      <td>-0.672974</td>\n",
       "      <td>-1.369643</td>\n",
       "      <td>1.602581</td>\n",
       "      <td>-0.461736</td>\n",
       "      <td>-0.555270</td>\n",
       "      <td>0.562954</td>\n",
       "    </tr>\n",
       "    <tr>\n",
       "      <th>4</th>\n",
       "      <td>4</td>\n",
       "      <td>2</td>\n",
       "      <td>5</td>\n",
       "      <td>0.234375</td>\n",
       "      <td>-0.438995</td>\n",
       "      <td>0.175948</td>\n",
       "      <td>0.204015</td>\n",
       "      <td>6.0</td>\n",
       "      <td>1.967405</td>\n",
       "      <td>0.042931</td>\n",
       "      <td>0.646596</td>\n",
       "      <td>-0.394804</td>\n",
       "      <td>-1.230112</td>\n",
       "      <td>-0.675019</td>\n",
       "      <td>-1.371636</td>\n",
       "      <td>-0.284182</td>\n",
       "      <td>-0.334693</td>\n",
       "      <td>-0.495984</td>\n",
       "      <td>0.544357</td>\n",
       "    </tr>\n",
       "  </tbody>\n",
       "</table>\n",
       "</div>"
      ],
      "text/plain": [
       "   index  session  second        DA        PC       IDM        SM  jva100  \\\n",
       "0      0        2       1  0.233333 -0.447563  0.177397  0.208709    24.0   \n",
       "1      1        2       2  0.232708 -0.445837  0.177548  0.207804     7.0   \n",
       "2      2        2       3  0.233125 -0.442000  0.177468  0.206289    18.0   \n",
       "3      3        2       4  0.234583 -0.439776  0.176532  0.205172    23.0   \n",
       "4      4        2       5  0.234375 -0.438995  0.175948  0.204015     6.0   \n",
       "\n",
       "   moveDiff  headDiff  shoulderDiff  DA_scaled  PC_scaled  IDM_scaled  \\\n",
       "0  1.941329  0.047057      0.658437  -0.408346  -1.253811   -0.669944   \n",
       "1  2.013969  0.040868      0.654975  -0.416471  -1.249036   -0.669415   \n",
       "2  1.825878  0.048828      0.642805  -0.411054  -1.238426   -0.669694   \n",
       "3  1.675585  0.037022      0.648898  -0.392095  -1.232274   -0.672974   \n",
       "4  1.967405  0.042931      0.646596  -0.394804  -1.230112   -0.675019   \n",
       "\n",
       "   SM_scaled  jva100_scaled  moveDiff_scaled  headDiff_scaled  \\\n",
       "0  -1.363551       1.713567        -0.346045        -0.454587   \n",
       "1  -1.365111      -0.173196        -0.314421        -0.516680   \n",
       "2  -1.367720       1.047651        -0.396306        -0.436817   \n",
       "3  -1.369643       1.602581        -0.461736        -0.555270   \n",
       "4  -1.371636      -0.284182        -0.334693        -0.495984   \n",
       "\n",
       "   shoulderDiff_scaled  \n",
       "0             0.640038  \n",
       "1             0.612066  \n",
       "2             0.513720  \n",
       "3             0.562954  \n",
       "4             0.544357  "
      ]
     },
     "execution_count": 3,
     "metadata": {},
     "output_type": "execute_result"
    }
   ],
   "source": [
    "data.head()"
   ]
  },
  {
   "cell_type": "code",
   "execution_count": 4,
   "metadata": {},
   "outputs": [
    {
     "data": {
      "text/plain": [
       "Index(['index', 'session', 'second', 'DA', 'PC', 'IDM', 'SM', 'jva100',\n",
       "       'moveDiff', 'headDiff', 'shoulderDiff', 'DA_scaled', 'PC_scaled',\n",
       "       'IDM_scaled', 'SM_scaled', 'jva100_scaled', 'moveDiff_scaled',\n",
       "       'headDiff_scaled', 'shoulderDiff_scaled'],\n",
       "      dtype='object')"
      ]
     },
     "execution_count": 4,
     "metadata": {},
     "output_type": "execute_result"
    }
   ],
   "source": [
    "data.columns"
   ]
  },
  {
   "cell_type": "code",
   "execution_count": 5,
   "metadata": {},
   "outputs": [],
   "source": [
    "explanatory = data[['DA', 'PC', 'IDM', 'SM', \n",
    "                    'jva100','moveDiff', 'headDiff', 'shoulderDiff']]\n",
    "explanatory = sm.add_constant(explanatory)"
   ]
  },
  {
   "cell_type": "code",
   "execution_count": 6,
   "metadata": {},
   "outputs": [],
   "source": [
    "vif = [variance_inflation_factor(explanatory.values, i) for i in range(explanatory.shape[1])]"
   ]
  },
  {
   "cell_type": "code",
   "execution_count": 7,
   "metadata": {},
   "outputs": [
    {
     "data": {
      "text/plain": [
       "const           53.831771\n",
       "DA               1.172733\n",
       "PC               1.020597\n",
       "IDM              1.237665\n",
       "SM               1.025402\n",
       "jva100           1.024042\n",
       "moveDiff         1.480801\n",
       "headDiff         1.469271\n",
       "shoulderDiff     1.060344\n",
       "dtype: float64"
      ]
     },
     "execution_count": 7,
     "metadata": {},
     "output_type": "execute_result"
    }
   ],
   "source": [
    "pd.Series(vif, index = explanatory.columns)"
   ]
  },
  {
   "cell_type": "code",
   "execution_count": 8,
   "metadata": {},
   "outputs": [],
   "source": [
    "explanatory_scaled = data[['DA_scaled', 'PC_scaled',\n",
    "                    'IDM_scaled', 'SM_scaled', \n",
    "                    'jva100_scaled', 'moveDiff_scaled',\n",
    "                    'headDiff_scaled', 'shoulderDiff_scaled']]\n",
    "explanatory_scaled = sm.add_constant(explanatory_scaled)"
   ]
  },
  {
   "cell_type": "code",
   "execution_count": 9,
   "metadata": {},
   "outputs": [],
   "source": [
    "vif_scaled = [variance_inflation_factor(explanatory_scaled.values, i) for i in range(explanatory_scaled.shape[1])]"
   ]
  },
  {
   "cell_type": "code",
   "execution_count": 10,
   "metadata": {},
   "outputs": [
    {
     "data": {
      "text/plain": [
       "const                  1.000000\n",
       "DA_scaled              1.172733\n",
       "PC_scaled              1.020597\n",
       "IDM_scaled             1.237665\n",
       "SM_scaled              1.025402\n",
       "jva100_scaled          1.024042\n",
       "moveDiff_scaled        1.480801\n",
       "headDiff_scaled        1.469271\n",
       "shoulderDiff_scaled    1.060344\n",
       "dtype: float64"
      ]
     },
     "execution_count": 10,
     "metadata": {},
     "output_type": "execute_result"
    }
   ],
   "source": [
    "pd.Series(vif_scaled, index = explanatory_scaled.columns)"
   ]
  }
 ],
 "metadata": {
  "kernelspec": {
   "display_name": "Python 3",
   "language": "python",
   "name": "python3"
  },
  "language_info": {
   "codemirror_mode": {
    "name": "ipython",
    "version": 3
   },
   "file_extension": ".py",
   "mimetype": "text/x-python",
   "name": "python",
   "nbconvert_exporter": "python",
   "pygments_lexer": "ipython3",
   "version": "3.6.5"
  }
 },
 "nbformat": 4,
 "nbformat_minor": 2
}
