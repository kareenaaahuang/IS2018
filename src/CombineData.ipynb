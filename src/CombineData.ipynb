{
 "cells": [
  {
   "cell_type": "code",
   "execution_count": 8,
   "metadata": {},
   "outputs": [],
   "source": [
    "import os\n",
    "import math\n",
    "import pandas as pd\n",
    "import numpy as np"
   ]
  },
  {
   "cell_type": "code",
   "execution_count": 4,
   "metadata": {},
   "outputs": [],
   "source": [
    "def combineData():\n",
    "    \n",
    "    dEDA = \"../Data_Empatica/sync_data/group_EDA_bySecond/\"\n",
    "    dJVA = \"../Data_Eyetracking/group_JVA_bySecond/\"\n",
    "#     dMOT = \"../Data_Kinect/\"\n",
    "    \n",
    "    for i in range(1,43):\n",
    "        fEDA = dEDA + str(i) + \"_EDA_bySecond.csv\"\n",
    "        fJVA = dJVA + str(i) + \"_JVA_bySecond.csv\"\n",
    "#         fMOT = dMOT + str(i) + \"_Kinect_bySecond.csv\"\n",
    "        \n",
    "        try: \n",
    "            dfEDA = pd.read_csv(fEDA)\n",
    "            dfJVA = pd.read_csv(fJVA)\n",
    "#             dfMOT = pd.read_csv(fMOT)\n",
    "\n",
    "            dfCombine = dfEDA.merge(dfJVA, on = 'second', how = 'outer').drop('Unnamed: 0', axis = 1)\n",
    "#             dfCombine = dfCombine.merge(dfMOT, on = 'second', how = 'outer')\n",
    "            \n",
    "            dfCombine['JVA'] = dfCombine.loc[:,'jva10':'jva200'].apply(lambda x: booleanJVA(x), axis = 1)\n",
    "            \n",
    "            dfCombine.to_csv('group_combine_bySecond/'+str(i)+\"_combine_bySecond.csv\")\n",
    "            \n",
    "        except:\n",
    "            \n",
    "            print(fEDA) #print file path if error\n",
    "\n",
    "def booleanJVA(x):\n",
    "    #add boolean variable JVA indicating whether there was moment of JVA\n",
    "    if np.sum(x) == 0:\n",
    "        return False\n",
    "    if np.sum(x) > 0:\n",
    "        return True"
   ]
  },
  {
   "cell_type": "code",
   "execution_count": 5,
   "metadata": {},
   "outputs": [
    {
     "name": "stdout",
     "output_type": "stream",
     "text": [
      "../Data_Empatica/sync_data/group_EDA_bySecond/3_EDA_bySecond.csv\n",
      "../Data_Empatica/sync_data/group_EDA_bySecond/10_EDA_bySecond.csv\n",
      "../Data_Empatica/sync_data/group_EDA_bySecond/18_EDA_bySecond.csv\n",
      "../Data_Empatica/sync_data/group_EDA_bySecond/26_EDA_bySecond.csv\n",
      "../Data_Empatica/sync_data/group_EDA_bySecond/30_EDA_bySecond.csv\n",
      "../Data_Empatica/sync_data/group_EDA_bySecond/33_EDA_bySecond.csv\n",
      "../Data_Empatica/sync_data/group_EDA_bySecond/36_EDA_bySecond.csv\n"
     ]
    }
   ],
   "source": [
    "combineData()"
   ]
  },
  {
   "cell_type": "code",
   "execution_count": 13,
   "metadata": {},
   "outputs": [],
   "source": [
    "def combineDatawKinect():\n",
    "    \n",
    "    dEDA = \"../Data_Empatica/sync_data/group_EDA_bySecond/\"\n",
    "    dJVA = \"../Data_Eyetracking/group_JVA_bySecond/\"\n",
    "    dMOT = \"../Data_Kinect/\"\n",
    "    \n",
    "    for i in range(1,43):\n",
    "        fEDA = dEDA + str(i) + \"_EDA_bySecond.csv\"\n",
    "        fJVA = dJVA + str(i) + \"_JVA_bySecond.csv\"\n",
    "        fMOT = dMOT + str(i) + \"_Kinect_bySecond.csv\"\n",
    "        \n",
    "        try: \n",
    "            dfEDA = pd.read_csv(fEDA)\n",
    "            dfJVA = pd.read_csv(fJVA)\n",
    "            dfMOT = pd.read_csv(fMOT)\n",
    "\n",
    "            dfCombine = dfEDA.merge(dfJVA, on = 'second', how = 'outer').drop('Unnamed: 0', axis = 1)            \n",
    "#             dfCombine['JVA'] = dfCombine.loc[:,'jva10':'jva200'].apply(lambda x: booleanJVA(x), axis = 1)\n",
    "            dfCombine = dfCombine.merge(dfMOT, on = 'EDA real time', how = 'left')   \n",
    "            dfCombine.to_csv('group_combinewKinect_bySecond/'+str(i)+\"_combinewKinect_bySecond.csv\")\n",
    "            \n",
    "        except:\n",
    "            \n",
    "            print(fEDA) #print file path if error\n",
    "\n",
    "def booleanJVA(x):\n",
    "    #add boolean variable JVA indicating whether there was moment of JVA\n",
    "    if np.sum(x) == 0:\n",
    "        return False\n",
    "    if np.sum(x) > 0:\n",
    "        return True"
   ]
  },
  {
   "cell_type": "code",
   "execution_count": 14,
   "metadata": {},
   "outputs": [
    {
     "name": "stdout",
     "output_type": "stream",
     "text": [
      "../Data_Empatica/sync_data/group_EDA_bySecond/1_EDA_bySecond.csv\n",
      "../Data_Empatica/sync_data/group_EDA_bySecond/3_EDA_bySecond.csv\n"
     ]
    },
    {
     "name": "stderr",
     "output_type": "stream",
     "text": [
      "/Users/KaReeNaaah/anaconda3/lib/python3.6/site-packages/IPython/core/interactiveshell.py:2909: DtypeWarning: Columns (8,9) have mixed types. Specify dtype option on import or set low_memory=False.\n",
      "  if self.run_code(code, result):\n"
     ]
    },
    {
     "name": "stdout",
     "output_type": "stream",
     "text": [
      "../Data_Empatica/sync_data/group_EDA_bySecond/7_EDA_bySecond.csv\n",
      "../Data_Empatica/sync_data/group_EDA_bySecond/10_EDA_bySecond.csv\n",
      "../Data_Empatica/sync_data/group_EDA_bySecond/18_EDA_bySecond.csv\n"
     ]
    },
    {
     "name": "stderr",
     "output_type": "stream",
     "text": [
      "/Users/KaReeNaaah/anaconda3/lib/python3.6/site-packages/IPython/core/interactiveshell.py:2909: DtypeWarning: Columns (2,3,14) have mixed types. Specify dtype option on import or set low_memory=False.\n",
      "  if self.run_code(code, result):\n"
     ]
    },
    {
     "name": "stdout",
     "output_type": "stream",
     "text": [
      "../Data_Empatica/sync_data/group_EDA_bySecond/22_EDA_bySecond.csv\n",
      "../Data_Empatica/sync_data/group_EDA_bySecond/26_EDA_bySecond.csv\n",
      "../Data_Empatica/sync_data/group_EDA_bySecond/30_EDA_bySecond.csv\n",
      "../Data_Empatica/sync_data/group_EDA_bySecond/33_EDA_bySecond.csv\n",
      "../Data_Empatica/sync_data/group_EDA_bySecond/36_EDA_bySecond.csv\n",
      "../Data_Empatica/sync_data/group_EDA_bySecond/39_EDA_bySecond.csv\n"
     ]
    }
   ],
   "source": [
    "combineDatawKinect()"
   ]
  },
  {
   "cell_type": "code",
   "execution_count": null,
   "metadata": {},
   "outputs": [],
   "source": []
  }
 ],
 "metadata": {
  "kernelspec": {
   "display_name": "Python 3",
   "language": "python",
   "name": "python3"
  },
  "language_info": {
   "codemirror_mode": {
    "name": "ipython",
    "version": 3
   },
   "file_extension": ".py",
   "mimetype": "text/x-python",
   "name": "python",
   "nbconvert_exporter": "python",
   "pygments_lexer": "ipython3",
   "version": "3.6.5"
  }
 },
 "nbformat": 4,
 "nbformat_minor": 2
}
